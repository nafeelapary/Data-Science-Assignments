{
 "cells": [
  {
   "cell_type": "markdown",
   "id": "5a59e614",
   "metadata": {},
   "source": [
    "# Case Study on Testing of Hypothesis"
   ]
  },
  {
   "cell_type": "code",
   "execution_count": 1,
   "id": "dd1f8335",
   "metadata": {},
   "outputs": [],
   "source": [
    "import numpy as np\n",
    "import pandas as pd"
   ]
  },
  {
   "cell_type": "code",
   "execution_count": 2,
   "id": "068cc0c1",
   "metadata": {},
   "outputs": [],
   "source": [
    "sales=pd.read_csv(r\"C:\\Users\\paryn\\Downloads\\Sales_add.csv\")"
   ]
  },
  {
   "cell_type": "code",
   "execution_count": 3,
   "id": "f90d7f0e",
   "metadata": {},
   "outputs": [
    {
     "data": {
      "text/html": [
       "<div>\n",
       "<style scoped>\n",
       "    .dataframe tbody tr th:only-of-type {\n",
       "        vertical-align: middle;\n",
       "    }\n",
       "\n",
       "    .dataframe tbody tr th {\n",
       "        vertical-align: top;\n",
       "    }\n",
       "\n",
       "    .dataframe thead th {\n",
       "        text-align: right;\n",
       "    }\n",
       "</style>\n",
       "<table border=\"1\" class=\"dataframe\">\n",
       "  <thead>\n",
       "    <tr style=\"text-align: right;\">\n",
       "      <th></th>\n",
       "      <th>Month</th>\n",
       "      <th>Region</th>\n",
       "      <th>Manager</th>\n",
       "      <th>Sales_before_digital_add(in $)</th>\n",
       "      <th>Sales_After_digital_add(in $)</th>\n",
       "    </tr>\n",
       "  </thead>\n",
       "  <tbody>\n",
       "    <tr>\n",
       "      <th>0</th>\n",
       "      <td>Month-1</td>\n",
       "      <td>Region - A</td>\n",
       "      <td>Manager - A</td>\n",
       "      <td>132921</td>\n",
       "      <td>270390</td>\n",
       "    </tr>\n",
       "    <tr>\n",
       "      <th>1</th>\n",
       "      <td>Month-2</td>\n",
       "      <td>Region - A</td>\n",
       "      <td>Manager - C</td>\n",
       "      <td>149559</td>\n",
       "      <td>223334</td>\n",
       "    </tr>\n",
       "    <tr>\n",
       "      <th>2</th>\n",
       "      <td>Month-3</td>\n",
       "      <td>Region - B</td>\n",
       "      <td>Manager - A</td>\n",
       "      <td>146278</td>\n",
       "      <td>244243</td>\n",
       "    </tr>\n",
       "    <tr>\n",
       "      <th>3</th>\n",
       "      <td>Month-4</td>\n",
       "      <td>Region - B</td>\n",
       "      <td>Manager - B</td>\n",
       "      <td>152167</td>\n",
       "      <td>231808</td>\n",
       "    </tr>\n",
       "    <tr>\n",
       "      <th>4</th>\n",
       "      <td>Month-5</td>\n",
       "      <td>Region - C</td>\n",
       "      <td>Manager - B</td>\n",
       "      <td>159525</td>\n",
       "      <td>258402</td>\n",
       "    </tr>\n",
       "  </tbody>\n",
       "</table>\n",
       "</div>"
      ],
      "text/plain": [
       "     Month      Region      Manager  Sales_before_digital_add(in $)  \\\n",
       "0  Month-1  Region - A  Manager - A                          132921   \n",
       "1  Month-2  Region - A  Manager - C                          149559   \n",
       "2  Month-3  Region - B  Manager - A                          146278   \n",
       "3  Month-4  Region - B  Manager - B                          152167   \n",
       "4  Month-5  Region - C  Manager - B                          159525   \n",
       "\n",
       "   Sales_After_digital_add(in $)  \n",
       "0                         270390  \n",
       "1                         223334  \n",
       "2                         244243  \n",
       "3                         231808  \n",
       "4                         258402  "
      ]
     },
     "execution_count": 3,
     "metadata": {},
     "output_type": "execute_result"
    }
   ],
   "source": [
    "sales.head()"
   ]
  },
  {
   "cell_type": "markdown",
   "id": "69508f54",
   "metadata": {},
   "source": [
    "The company wishes to clarify whether there is any increase in sales after stepping into digital marketing. Help the company to carry out their study with the help of data provided."
   ]
  },
  {
   "cell_type": "code",
   "execution_count": 5,
   "id": "69911143",
   "metadata": {},
   "outputs": [
    {
     "data": {
      "text/plain": [
       "(22, 5)"
      ]
     },
     "execution_count": 5,
     "metadata": {},
     "output_type": "execute_result"
    }
   ],
   "source": [
    "sales.shape"
   ]
  },
  {
   "cell_type": "code",
   "execution_count": 6,
   "id": "b1311734",
   "metadata": {},
   "outputs": [],
   "source": [
    "#Sample size is less than 30. So T-test can be performed."
   ]
  },
  {
   "cell_type": "code",
   "execution_count": 7,
   "id": "a80848b6",
   "metadata": {},
   "outputs": [],
   "source": [
    "from scipy.stats import ttest_ind"
   ]
  },
  {
   "cell_type": "code",
   "execution_count": 8,
   "id": "1340d56f",
   "metadata": {},
   "outputs": [],
   "source": [
    "t_stat,p_value = ttest_ind(sales['Sales_before_digital_add(in $)'],sales['Sales_After_digital_add(in $)'])"
   ]
  },
  {
   "cell_type": "code",
   "execution_count": 9,
   "id": "ce9e581f",
   "metadata": {},
   "outputs": [
    {
     "data": {
      "text/plain": [
       "2.614368006904645e-16"
      ]
     },
     "execution_count": 9,
     "metadata": {},
     "output_type": "execute_result"
    }
   ],
   "source": [
    "p_value"
   ]
  },
  {
   "cell_type": "code",
   "execution_count": 11,
   "id": "4293a13b",
   "metadata": {},
   "outputs": [
    {
     "name": "stdout",
     "output_type": "stream",
     "text": [
      "Null Hypothesis Rejected\n"
     ]
    }
   ],
   "source": [
    "if p_value<0.05:\n",
    "    print('Null Hypothesis Rejected')\n",
    "else:\n",
    "    print('Null Hypothesis Accepted')"
   ]
  },
  {
   "cell_type": "code",
   "execution_count": 12,
   "id": "9eb72e56",
   "metadata": {},
   "outputs": [],
   "source": [
    "#So there is an increase in company sales after stepping into digital marketing."
   ]
  },
  {
   "cell_type": "markdown",
   "id": "086adb37",
   "metadata": {},
   "source": [
    "The company needs to check whether there is any dependency between the features “Region” and “Manager”."
   ]
  },
  {
   "cell_type": "code",
   "execution_count": 13,
   "id": "2486f2fe",
   "metadata": {},
   "outputs": [],
   "source": [
    "from scipy.stats import chi2_contingency"
   ]
  },
  {
   "cell_type": "code",
   "execution_count": 14,
   "id": "92e4bcba",
   "metadata": {},
   "outputs": [],
   "source": [
    "relation=pd.crosstab(sales['Region'],sales['Manager'])"
   ]
  },
  {
   "cell_type": "code",
   "execution_count": 15,
   "id": "a4b6478a",
   "metadata": {},
   "outputs": [
    {
     "data": {
      "text/html": [
       "<div>\n",
       "<style scoped>\n",
       "    .dataframe tbody tr th:only-of-type {\n",
       "        vertical-align: middle;\n",
       "    }\n",
       "\n",
       "    .dataframe tbody tr th {\n",
       "        vertical-align: top;\n",
       "    }\n",
       "\n",
       "    .dataframe thead th {\n",
       "        text-align: right;\n",
       "    }\n",
       "</style>\n",
       "<table border=\"1\" class=\"dataframe\">\n",
       "  <thead>\n",
       "    <tr style=\"text-align: right;\">\n",
       "      <th>Manager</th>\n",
       "      <th>Manager - A</th>\n",
       "      <th>Manager - B</th>\n",
       "      <th>Manager - C</th>\n",
       "    </tr>\n",
       "    <tr>\n",
       "      <th>Region</th>\n",
       "      <th></th>\n",
       "      <th></th>\n",
       "      <th></th>\n",
       "    </tr>\n",
       "  </thead>\n",
       "  <tbody>\n",
       "    <tr>\n",
       "      <th>Region - A</th>\n",
       "      <td>4</td>\n",
       "      <td>3</td>\n",
       "      <td>3</td>\n",
       "    </tr>\n",
       "    <tr>\n",
       "      <th>Region - B</th>\n",
       "      <td>4</td>\n",
       "      <td>1</td>\n",
       "      <td>2</td>\n",
       "    </tr>\n",
       "    <tr>\n",
       "      <th>Region - C</th>\n",
       "      <td>1</td>\n",
       "      <td>3</td>\n",
       "      <td>1</td>\n",
       "    </tr>\n",
       "  </tbody>\n",
       "</table>\n",
       "</div>"
      ],
      "text/plain": [
       "Manager     Manager - A  Manager - B  Manager - C\n",
       "Region                                           \n",
       "Region - A            4            3            3\n",
       "Region - B            4            1            2\n",
       "Region - C            1            3            1"
      ]
     },
     "execution_count": 15,
     "metadata": {},
     "output_type": "execute_result"
    }
   ],
   "source": [
    "relation"
   ]
  },
  {
   "cell_type": "code",
   "execution_count": 16,
   "id": "a87d8938",
   "metadata": {},
   "outputs": [
    {
     "data": {
      "text/plain": [
       "Chi2ContingencyResult(statistic=3.050566893424036, pvalue=0.5493991051158094, dof=4, expected_freq=array([[4.09090909, 3.18181818, 2.72727273],\n",
       "       [2.86363636, 2.22727273, 1.90909091],\n",
       "       [2.04545455, 1.59090909, 1.36363636]]))"
      ]
     },
     "execution_count": 16,
     "metadata": {},
     "output_type": "execute_result"
    }
   ],
   "source": [
    "chi2_contingency(relation)"
   ]
  },
  {
   "cell_type": "code",
   "execution_count": 17,
   "id": "b6f42305",
   "metadata": {},
   "outputs": [],
   "source": [
    "chi_stat,pvalue,dof,exp_values = chi2_contingency(relation)"
   ]
  },
  {
   "cell_type": "code",
   "execution_count": 18,
   "id": "72755b72",
   "metadata": {},
   "outputs": [
    {
     "name": "stdout",
     "output_type": "stream",
     "text": [
      "Null Hypothesis Accepted\n"
     ]
    }
   ],
   "source": [
    "if pvalue<0.05:\n",
    "    print('Null Hypothesis Rejected')\n",
    "else:\n",
    "    print('Null Hypothesis Accepted')"
   ]
  },
  {
   "cell_type": "markdown",
   "id": "e498eeb0",
   "metadata": {},
   "source": [
    "There is no relation between the features 'Region' and 'Manager'."
   ]
  },
  {
   "cell_type": "code",
   "execution_count": null,
   "id": "3c5e48b8",
   "metadata": {},
   "outputs": [],
   "source": []
  }
 ],
 "metadata": {
  "kernelspec": {
   "display_name": "Python 3 (ipykernel)",
   "language": "python",
   "name": "python3"
  },
  "language_info": {
   "codemirror_mode": {
    "name": "ipython",
    "version": 3
   },
   "file_extension": ".py",
   "mimetype": "text/x-python",
   "name": "python",
   "nbconvert_exporter": "python",
   "pygments_lexer": "ipython3",
   "version": "3.10.9"
  }
 },
 "nbformat": 4,
 "nbformat_minor": 5
}
